{
  "nbformat": 4,
  "nbformat_minor": 0,
  "metadata": {
    "colab": {
      "name": "WSB stats.ipynb",
      "provenance": [],
      "collapsed_sections": []
    },
    "kernelspec": {
      "name": "python3",
      "display_name": "Python 3"
    }
  },
  "cells": [
    {
      "cell_type": "markdown",
      "metadata": {
        "id": "V3g1yDOXZxos"
      },
      "source": [
        "# WSB stats from subredditstats.com"
      ]
    },
    {
      "cell_type": "code",
      "metadata": {
        "colab": {
          "base_uri": "https://localhost:8080/"
        },
        "id": "B8s5DJjoaXqv",
        "outputId": "d7c0a804-f8f1-4708-8555-658b2f2c93d0"
      },
      "source": [
        "#Plotly module to see the output of the graphs in github\n",
        "!pip install plotly>=4.0.0\n",
        "!wget https://github.com/plotly/orca/releases/download/v1.2.1/orca-1.2.1-x86_64.AppImage -O /usr/local/bin/orca\n",
        "!chmod +x /usr/local/bin/orca\n",
        "!apt-get install xvfb libgtk2.0-0 libgconf-2-4"
      ],
      "execution_count": 13,
      "outputs": [
        {
          "output_type": "stream",
          "text": [
            "/usr/local/bin/orca: Text file busy\n",
            "Reading package lists... Done\n",
            "Building dependency tree       \n",
            "Reading state information... Done\n",
            "libgtk2.0-0 is already the newest version (2.24.32-1ubuntu1).\n",
            "libgconf-2-4 is already the newest version (3.2.6-4ubuntu1).\n",
            "xvfb is already the newest version (2:1.19.6-1ubuntu4.8).\n",
            "0 upgraded, 0 newly installed, 0 to remove and 29 not upgraded.\n"
          ],
          "name": "stdout"
        }
      ]
    },
    {
      "cell_type": "code",
      "metadata": {
        "id": "-Ubl8moZkYl7"
      },
      "source": [
        "import pandas as pd\n",
        "import numpy as np\n",
        "import plotly.express as px"
      ],
      "execution_count": 14,
      "outputs": []
    },
    {
      "cell_type": "code",
      "metadata": {
        "id": "HV_2uvAVkk5A",
        "colab": {
          "base_uri": "https://localhost:8080/",
          "height": 424
        },
        "outputId": "44c54dbb-9d83-4358-dc19-247f5c0545c3"
      },
      "source": [
        "#Subscribers data\n",
        "subs = pd.read_excel('/content/drive/MyDrive/WSB/wsb_subs.xlsx')\n",
        "subs"
      ],
      "execution_count": 15,
      "outputs": [
        {
          "output_type": "execute_result",
          "data": {
            "text/html": [
              "<div>\n",
              "<style scoped>\n",
              "    .dataframe tbody tr th:only-of-type {\n",
              "        vertical-align: middle;\n",
              "    }\n",
              "\n",
              "    .dataframe tbody tr th {\n",
              "        vertical-align: top;\n",
              "    }\n",
              "\n",
              "    .dataframe thead th {\n",
              "        text-align: right;\n",
              "    }\n",
              "</style>\n",
              "<table border=\"1\" class=\"dataframe\">\n",
              "  <thead>\n",
              "    <tr style=\"text-align: right;\">\n",
              "      <th></th>\n",
              "      <th>Date</th>\n",
              "      <th>Subscribers</th>\n",
              "    </tr>\n",
              "  </thead>\n",
              "  <tbody>\n",
              "    <tr>\n",
              "      <th>0</th>\n",
              "      <td>2012-10-29 01:00:00</td>\n",
              "      <td>1557.0</td>\n",
              "    </tr>\n",
              "    <tr>\n",
              "      <th>1</th>\n",
              "      <td>2012-10-30 01:00:00</td>\n",
              "      <td>1560.0</td>\n",
              "    </tr>\n",
              "    <tr>\n",
              "      <th>2</th>\n",
              "      <td>2012-10-31 01:00:00</td>\n",
              "      <td>1560.0</td>\n",
              "    </tr>\n",
              "    <tr>\n",
              "      <th>3</th>\n",
              "      <td>2012-11-01 01:00:00</td>\n",
              "      <td>1558.0</td>\n",
              "    </tr>\n",
              "    <tr>\n",
              "      <th>4</th>\n",
              "      <td>2012-11-02 01:00:00</td>\n",
              "      <td>1557.0</td>\n",
              "    </tr>\n",
              "    <tr>\n",
              "      <th>...</th>\n",
              "      <td>...</td>\n",
              "      <td>...</td>\n",
              "    </tr>\n",
              "    <tr>\n",
              "      <th>3051</th>\n",
              "      <td>2021-03-07 01:00:00</td>\n",
              "      <td>9453890.0</td>\n",
              "    </tr>\n",
              "    <tr>\n",
              "      <th>3052</th>\n",
              "      <td>2021-03-08 01:00:00</td>\n",
              "      <td>9465400.0</td>\n",
              "    </tr>\n",
              "    <tr>\n",
              "      <th>3053</th>\n",
              "      <td>2021-03-09 01:00:00</td>\n",
              "      <td>9479186.0</td>\n",
              "    </tr>\n",
              "    <tr>\n",
              "      <th>3054</th>\n",
              "      <td>2021-03-10 01:00:00</td>\n",
              "      <td>9496597.0</td>\n",
              "    </tr>\n",
              "    <tr>\n",
              "      <th>3055</th>\n",
              "      <td>2021-03-11 01:00:00</td>\n",
              "      <td>9511046.0</td>\n",
              "    </tr>\n",
              "  </tbody>\n",
              "</table>\n",
              "<p>3056 rows × 2 columns</p>\n",
              "</div>"
            ],
            "text/plain": [
              "                    Date  Subscribers\n",
              "0    2012-10-29 01:00:00       1557.0\n",
              "1    2012-10-30 01:00:00       1560.0\n",
              "2    2012-10-31 01:00:00       1560.0\n",
              "3    2012-11-01 01:00:00       1558.0\n",
              "4    2012-11-02 01:00:00       1557.0\n",
              "...                  ...          ...\n",
              "3051 2021-03-07 01:00:00    9453890.0\n",
              "3052 2021-03-08 01:00:00    9465400.0\n",
              "3053 2021-03-09 01:00:00    9479186.0\n",
              "3054 2021-03-10 01:00:00    9496597.0\n",
              "3055 2021-03-11 01:00:00    9511046.0\n",
              "\n",
              "[3056 rows x 2 columns]"
            ]
          },
          "metadata": {
            "tags": []
          },
          "execution_count": 15
        }
      ]
    },
    {
      "cell_type": "code",
      "metadata": {
        "colab": {
          "base_uri": "https://localhost:8080/",
          "height": 472
        },
        "id": "WcNbbCNskwKx",
        "outputId": "21305e56-19cc-4350-bfc5-6fd95ec6cf0d"
      },
      "source": [
        "#WSB subs linechart\n",
        "fig = px.line(subs, x=\"Date\", y=\"Subscribers\",\n",
        "             color_discrete_sequence=[\"black\"], \n",
        "             title=\"<b>WallStreetBets subscribers evolution<b>\", width=800, height=400\n",
        "             )\n",
        "#Remove x axes from the fig\n",
        "fig.update_xaxes(tickfont_family=\"Charter\", ticks = \"outside\", tickcolor='white', ticklen=10)\n",
        "fig.update_traces(connectgaps=True)\n",
        "\n",
        "#Put the title in the middle\n",
        "fig.update(layout=dict(title=dict(x=0.5, y=0.92)))\n",
        "#Remove the legend and put the background in white\n",
        "fig.update_layout(showlegend=False, plot_bgcolor='white', yaxis=dict(title=''), margin=dict(autoexpand=True, l=0, r=20, t=60, b=80),\n",
        "                  font=dict(family=\"Charter\", size=13,color=\"black\"))\n",
        "fig.show('svg')"
      ],
      "execution_count": 16,
      "outputs": [
        {
          "output_type": "display_data",
          "data": {
            "image/svg+xml": "<svg class=\"main-svg\" xmlns=\"http://www.w3.org/2000/svg\" xmlns:xlink=\"http://www.w3.org/1999/xlink\" width=\"700\" height=\"450\" viewBox=\"0 0 700 450\"><rect x=\"0\" y=\"0\" width=\"700\" height=\"450\" style=\"fill: rgb(255, 255, 255); fill-opacity: 1;\"/><defs id=\"defs-f3fbfd\"><g class=\"clips\"><clipPath id=\"clipf3fbfdxyplot\" class=\"plotclip\"><rect width=\"628\" height=\"310\"/></clipPath><clipPath class=\"axesclip\" id=\"clipf3fbfdx\"><rect x=\"52\" y=\"0\" width=\"628\" height=\"450\"/></clipPath><clipPath class=\"axesclip\" id=\"clipf3fbfdy\"><rect x=\"0\" y=\"60\" width=\"700\" height=\"310\"/></clipPath><clipPath class=\"axesclip\" id=\"clipf3fbfdxy\"><rect x=\"52\" y=\"60\" width=\"628\" height=\"310\"/></clipPath></g><g class=\"gradients\"/></defs><g class=\"bglayer\"/><g class=\"layer-below\"><g class=\"imagelayer\"/><g class=\"shapelayer\"/></g><g class=\"cartesianlayer\"><g class=\"subplot xy\"><g class=\"layer-subplot\"><g class=\"shapelayer\"/><g class=\"imagelayer\"/></g><g class=\"gridlayer\"><g class=\"x\"><path class=\"xgrid crisp\" transform=\"translate(65.15,0)\" d=\"M0,60v310\" style=\"stroke: rgb(255, 255, 255); stroke-opacity: 1; stroke-width: 1px;\"/><path class=\"xgrid crisp\" transform=\"translate(140.18,0)\" d=\"M0,60v310\" style=\"stroke: rgb(255, 255, 255); stroke-opacity: 1; stroke-width: 1px;\"/><path class=\"xgrid crisp\" transform=\"translate(215.21,0)\" d=\"M0,60v310\" style=\"stroke: rgb(255, 255, 255); stroke-opacity: 1; stroke-width: 1px;\"/><path class=\"xgrid crisp\" transform=\"translate(290.24,0)\" d=\"M0,60v310\" style=\"stroke: rgb(255, 255, 255); stroke-opacity: 1; stroke-width: 1px;\"/><path class=\"xgrid crisp\" transform=\"translate(365.48,0)\" d=\"M0,60v310\" style=\"stroke: rgb(255, 255, 255); stroke-opacity: 1; stroke-width: 1px;\"/><path class=\"xgrid crisp\" transform=\"translate(440.51,0)\" d=\"M0,60v310\" style=\"stroke: rgb(255, 255, 255); stroke-opacity: 1; stroke-width: 1px;\"/><path class=\"xgrid crisp\" transform=\"translate(515.54,0)\" d=\"M0,60v310\" style=\"stroke: rgb(255, 255, 255); stroke-opacity: 1; stroke-width: 1px;\"/><path class=\"xgrid crisp\" transform=\"translate(590.57,0)\" d=\"M0,60v310\" style=\"stroke: rgb(255, 255, 255); stroke-opacity: 1; stroke-width: 1px;\"/><path class=\"xgrid crisp\" transform=\"translate(665.81,0)\" d=\"M0,60v310\" style=\"stroke: rgb(255, 255, 255); stroke-opacity: 1; stroke-width: 1px;\"/></g><g class=\"y\"><path class=\"ygrid crisp\" transform=\"translate(0,295.87)\" d=\"M52,0h628\" style=\"stroke: rgb(255, 255, 255); stroke-opacity: 1; stroke-width: 1px;\"/><path class=\"ygrid crisp\" transform=\"translate(0,237.19)\" d=\"M52,0h628\" style=\"stroke: rgb(255, 255, 255); stroke-opacity: 1; stroke-width: 1px;\"/><path class=\"ygrid crisp\" transform=\"translate(0,178.51)\" d=\"M52,0h628\" style=\"stroke: rgb(255, 255, 255); stroke-opacity: 1; stroke-width: 1px;\"/><path class=\"ygrid crisp\" transform=\"translate(0,119.83)\" d=\"M52,0h628\" style=\"stroke: rgb(255, 255, 255); stroke-opacity: 1; stroke-width: 1px;\"/><path class=\"ygrid crisp\" transform=\"translate(0,61.15)\" d=\"M52,0h628\" style=\"stroke: rgb(255, 255, 255); stroke-opacity: 1; stroke-width: 1px;\"/></g></g><g class=\"zerolinelayer\"><path class=\"yzl zl crisp\" transform=\"translate(0,354.55)\" d=\"M52,0h628\" style=\"stroke: rgb(255, 255, 255); stroke-opacity: 1; stroke-width: 2px;\"/></g><path class=\"xlines-below\"/><path class=\"ylines-below\"/><g class=\"overlines-below\"/><g class=\"xaxislayer-below\"/><g class=\"yaxislayer-below\"/><g class=\"overaxes-below\"/><g class=\"plot\" transform=\"translate(52, 60)\" clip-path=\"url('#clipf3fbfdxyplot')\"/><g class=\"overplot\"/><path class=\"xlines-above crisp\" d=\"\" style=\"fill: none; stroke-width: 1px; stroke: rgb(0, 0, 0); stroke-opacity: 0;\"/><path class=\"ylines-above crisp\" d=\"M0,0\" style=\"fill: none;\"/><g class=\"overlines-above\"/><g class=\"xaxislayer-above\"><path class=\"xtick ticks crisp\" d=\"M0,371v10\" transform=\"translate(65.15,0)\" style=\"stroke: rgb(255, 255, 255); stroke-opacity: 1; stroke-width: 1px;\"/><path class=\"xtick ticks crisp\" d=\"M0,371v10\" transform=\"translate(140.18,0)\" style=\"stroke: rgb(255, 255, 255); stroke-opacity: 1; stroke-width: 1px;\"/><path class=\"xtick ticks crisp\" d=\"M0,371v10\" transform=\"translate(215.21,0)\" style=\"stroke: rgb(255, 255, 255); stroke-opacity: 1; stroke-width: 1px;\"/><path class=\"xtick ticks crisp\" d=\"M0,371v10\" transform=\"translate(290.24,0)\" style=\"stroke: rgb(255, 255, 255); stroke-opacity: 1; stroke-width: 1px;\"/><path class=\"xtick ticks crisp\" d=\"M0,371v10\" transform=\"translate(365.48,0)\" style=\"stroke: rgb(255, 255, 255); stroke-opacity: 1; stroke-width: 1px;\"/><path class=\"xtick ticks crisp\" d=\"M0,371v10\" transform=\"translate(440.51,0)\" style=\"stroke: rgb(255, 255, 255); stroke-opacity: 1; stroke-width: 1px;\"/><path class=\"xtick ticks crisp\" d=\"M0,371v10\" transform=\"translate(515.54,0)\" style=\"stroke: rgb(255, 255, 255); stroke-opacity: 1; stroke-width: 1px;\"/><path class=\"xtick ticks crisp\" d=\"M0,371v10\" transform=\"translate(590.57,0)\" style=\"stroke: rgb(255, 255, 255); stroke-opacity: 1; stroke-width: 1px;\"/><path class=\"xtick ticks crisp\" d=\"M0,371v10\" transform=\"translate(665.81,0)\" style=\"stroke: rgb(255, 255, 255); stroke-opacity: 1; stroke-width: 1px;\"/><g class=\"xtick\"><text text-anchor=\"middle\" x=\"0\" y=\"396.6\" transform=\"translate(65.15,0)\" style=\"font-family: Charter; font-size: 13px; fill: rgb(0, 0, 0); fill-opacity: 1; white-space: pre;\">2013</text></g><g class=\"xtick\"><text text-anchor=\"middle\" x=\"0\" y=\"396.6\" transform=\"translate(140.18,0)\" style=\"font-family: Charter; font-size: 13px; fill: rgb(0, 0, 0); fill-opacity: 1; white-space: pre;\">2014</text></g><g class=\"xtick\"><text text-anchor=\"middle\" x=\"0\" y=\"396.6\" transform=\"translate(215.21,0)\" style=\"font-family: Charter; font-size: 13px; fill: rgb(0, 0, 0); fill-opacity: 1; white-space: pre;\">2015</text></g><g class=\"xtick\"><text text-anchor=\"middle\" x=\"0\" y=\"396.6\" transform=\"translate(290.24,0)\" style=\"font-family: Charter; font-size: 13px; fill: rgb(0, 0, 0); fill-opacity: 1; white-space: pre;\">2016</text></g><g class=\"xtick\"><text text-anchor=\"middle\" x=\"0\" y=\"396.6\" transform=\"translate(365.48,0)\" style=\"font-family: Charter; font-size: 13px; fill: rgb(0, 0, 0); fill-opacity: 1; white-space: pre;\">2017</text></g><g class=\"xtick\"><text text-anchor=\"middle\" x=\"0\" y=\"396.6\" transform=\"translate(440.51,0)\" style=\"font-family: Charter; font-size: 13px; fill: rgb(0, 0, 0); fill-opacity: 1; white-space: pre;\">2018</text></g><g class=\"xtick\"><text text-anchor=\"middle\" x=\"0\" y=\"396.6\" transform=\"translate(515.54,0)\" style=\"font-family: Charter; font-size: 13px; fill: rgb(0, 0, 0); fill-opacity: 1; white-space: pre;\">2019</text></g><g class=\"xtick\"><text text-anchor=\"middle\" x=\"0\" y=\"396.6\" transform=\"translate(590.57,0)\" style=\"font-family: Charter; font-size: 13px; fill: rgb(0, 0, 0); fill-opacity: 1; white-space: pre;\">2020</text></g><g class=\"xtick\"><text text-anchor=\"middle\" x=\"0\" y=\"396.6\" transform=\"translate(665.81,0)\" style=\"font-family: Charter; font-size: 13px; fill: rgb(0, 0, 0); fill-opacity: 1; white-space: pre;\">2021</text></g></g><g class=\"yaxislayer-above\"><g class=\"ytick\"><text text-anchor=\"end\" x=\"51\" y=\"4.55\" transform=\"translate(0,354.55)\" style=\"font-family: Charter; font-size: 13px; fill: rgb(0, 0, 0); fill-opacity: 1; white-space: pre;\">0</text></g><g class=\"ytick\"><text text-anchor=\"end\" x=\"51\" y=\"4.55\" transform=\"translate(0,295.87)\" style=\"font-family: Charter; font-size: 13px; fill: rgb(0, 0, 0); fill-opacity: 1; white-space: pre;\">2M</text></g><g class=\"ytick\"><text text-anchor=\"end\" x=\"51\" y=\"4.55\" transform=\"translate(0,237.19)\" style=\"font-family: Charter; font-size: 13px; fill: rgb(0, 0, 0); fill-opacity: 1; white-space: pre;\">4M</text></g><g class=\"ytick\"><text text-anchor=\"end\" x=\"51\" y=\"4.55\" transform=\"translate(0,178.51)\" style=\"font-family: Charter; font-size: 13px; fill: rgb(0, 0, 0); fill-opacity: 1; white-space: pre;\">6M</text></g><g class=\"ytick\"><text text-anchor=\"end\" x=\"51\" y=\"4.55\" transform=\"translate(0,119.83)\" style=\"font-family: Charter; font-size: 13px; fill: rgb(0, 0, 0); fill-opacity: 1; white-space: pre;\">8M</text></g><g class=\"ytick\"><text text-anchor=\"end\" x=\"51\" y=\"4.55\" transform=\"translate(0,61.15)\" style=\"font-family: Charter; font-size: 13px; fill: rgb(0, 0, 0); fill-opacity: 1; white-space: pre;\">10M</text></g></g><g class=\"overaxes-above\"/></g></g><g class=\"polarlayer\"/><g class=\"ternarylayer\"/><g class=\"geolayer\"/><g class=\"funnelarealayer\"/><g class=\"pielayer\"/><g class=\"treemaplayer\"/><g class=\"sunburstlayer\"/><g class=\"glimages\"><image xmlns=\"http://www.w3.org/2000/svg\" xlink:href=\"data:image/png;base64,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\" preserveAspectRatio=\"none\" x=\"0\" y=\"0\" width=\"700\" height=\"450\"/><image xmlns=\"http://www.w3.org/2000/svg\" xlink:href=\"data:image/png;base64,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\" preserveAspectRatio=\"none\" x=\"0\" y=\"0\" width=\"700\" height=\"450\"/></g><defs id=\"topdefs-f3fbfd\"><g class=\"clips\"/></defs><g class=\"layer-above\"><g class=\"imagelayer\"/><g class=\"shapelayer\"/></g><g class=\"infolayer\"><g class=\"g-gtitle\"><text class=\"gtitle\" x=\"350\" y=\"36\" text-anchor=\"middle\" dy=\"0.7em\" style=\"font-family: Charter; font-size: 18px; fill: rgb(0, 0, 0); opacity: 1; font-weight: normal; white-space: pre;\"><tspan style=\"font-weight:bold\">WallStreetBets subscribers evolution<tspan style=\"font-weight:bold\"></tspan></tspan></text></g><g class=\"g-xtitle\"><text class=\"xtitle\" x=\"366\" y=\"425.79375\" text-anchor=\"middle\" style=\"font-family: Charter; font-size: 16px; fill: rgb(0, 0, 0); opacity: 1; font-weight: normal; white-space: pre;\">Date</text></g><g class=\"g-ytitle\"/></g></svg>"
          },
          "metadata": {
            "tags": []
          }
        }
      ]
    },
    {
      "cell_type": "code",
      "metadata": {
        "id": "2X6E2ubWQtuk",
        "colab": {
          "base_uri": "https://localhost:8080/",
          "height": 424
        },
        "outputId": "832724ba-d0e9-4e78-802b-75d0b25c3cf7"
      },
      "source": [
        "#Comments data\n",
        "coms = pd.read_excel('/content/drive/MyDrive/WSB/wsb_coms.xlsx')\n",
        "coms"
      ],
      "execution_count": 17,
      "outputs": [
        {
          "output_type": "execute_result",
          "data": {
            "text/html": [
              "<div>\n",
              "<style scoped>\n",
              "    .dataframe tbody tr th:only-of-type {\n",
              "        vertical-align: middle;\n",
              "    }\n",
              "\n",
              "    .dataframe tbody tr th {\n",
              "        vertical-align: top;\n",
              "    }\n",
              "\n",
              "    .dataframe thead th {\n",
              "        text-align: right;\n",
              "    }\n",
              "</style>\n",
              "<table border=\"1\" class=\"dataframe\">\n",
              "  <thead>\n",
              "    <tr style=\"text-align: right;\">\n",
              "      <th></th>\n",
              "      <th>Date</th>\n",
              "      <th>Comments</th>\n",
              "    </tr>\n",
              "  </thead>\n",
              "  <tbody>\n",
              "    <tr>\n",
              "      <th>0</th>\n",
              "      <td>2018-10-08 02:00</td>\n",
              "      <td>1440.0</td>\n",
              "    </tr>\n",
              "    <tr>\n",
              "      <th>1</th>\n",
              "      <td>2018-10-09 02:00</td>\n",
              "      <td>NaN</td>\n",
              "    </tr>\n",
              "    <tr>\n",
              "      <th>2</th>\n",
              "      <td>2018-10-10 02:00</td>\n",
              "      <td>7531.0</td>\n",
              "    </tr>\n",
              "    <tr>\n",
              "      <th>3</th>\n",
              "      <td>2018-10-11 02:00</td>\n",
              "      <td>NaN</td>\n",
              "    </tr>\n",
              "    <tr>\n",
              "      <th>4</th>\n",
              "      <td>2018-10-12 02:00</td>\n",
              "      <td>9156.0</td>\n",
              "    </tr>\n",
              "    <tr>\n",
              "      <th>...</th>\n",
              "      <td>...</td>\n",
              "      <td>...</td>\n",
              "    </tr>\n",
              "    <tr>\n",
              "      <th>880</th>\n",
              "      <td>2021-03-06 01:00</td>\n",
              "      <td>22381.0</td>\n",
              "    </tr>\n",
              "    <tr>\n",
              "      <th>881</th>\n",
              "      <td>2021-03-07 01:00</td>\n",
              "      <td>42961.0</td>\n",
              "    </tr>\n",
              "    <tr>\n",
              "      <th>882</th>\n",
              "      <td>2021-03-08 01:00</td>\n",
              "      <td>77696.0</td>\n",
              "    </tr>\n",
              "    <tr>\n",
              "      <th>883</th>\n",
              "      <td>2021-03-09 01:00</td>\n",
              "      <td>83420.0</td>\n",
              "    </tr>\n",
              "    <tr>\n",
              "      <th>884</th>\n",
              "      <td>2021-03-10 01:00</td>\n",
              "      <td>112978.0</td>\n",
              "    </tr>\n",
              "  </tbody>\n",
              "</table>\n",
              "<p>885 rows × 2 columns</p>\n",
              "</div>"
            ],
            "text/plain": [
              "                 Date  Comments\n",
              "0    2018-10-08 02:00    1440.0\n",
              "1    2018-10-09 02:00       NaN\n",
              "2    2018-10-10 02:00    7531.0\n",
              "3    2018-10-11 02:00       NaN\n",
              "4    2018-10-12 02:00    9156.0\n",
              "..                ...       ...\n",
              "880  2021-03-06 01:00   22381.0\n",
              "881  2021-03-07 01:00   42961.0\n",
              "882  2021-03-08 01:00   77696.0\n",
              "883  2021-03-09 01:00   83420.0\n",
              "884  2021-03-10 01:00  112978.0\n",
              "\n",
              "[885 rows x 2 columns]"
            ]
          },
          "metadata": {
            "tags": []
          },
          "execution_count": 17
        }
      ]
    },
    {
      "cell_type": "code",
      "metadata": {
        "colab": {
          "base_uri": "https://localhost:8080/",
          "height": 472
        },
        "id": "7dakl_MzQtuo",
        "outputId": "da824197-2b88-49a5-a8b6-c8562f980c25"
      },
      "source": [
        "#WSB subs linechart\n",
        "fig = px.line(coms, x=\"Date\", y=\"Comments\",\n",
        "             color_discrete_sequence=[\"black\"], \n",
        "             title=\"<b>WallStreetBets comments per day evolution<b>\", width=800, height=400\n",
        "             )\n",
        "#Remove x axes from the fig\n",
        "fig.update_xaxes(tickfont_family=\"NHaasGroteskDSPro\", ticks = \"outside\", tickcolor='white', ticklen=10)\n",
        "fig.update_traces(connectgaps=True)\n",
        "\n",
        "#Put the title in the middle\n",
        "fig.update(layout=dict(title=dict(x=0.5, y=0.92)))\n",
        "#Remove the legend and put the background in white\n",
        "fig.update_layout(showlegend=False, plot_bgcolor='white', yaxis=dict(title=''), margin=dict(autoexpand=True, l=0, r=20, t=60, b=80),\n",
        "                  font=dict(family=\"NHaasGroteskDSPro\", size=13,color=\"black\"))\n",
        "fig.show('svg')"
      ],
      "execution_count": 18,
      "outputs": [
        {
          "output_type": "display_data",
          "data": {
            "image/svg+xml": "<svg class=\"main-svg\" xmlns=\"http://www.w3.org/2000/svg\" xmlns:xlink=\"http://www.w3.org/1999/xlink\" width=\"700\" height=\"450\" viewBox=\"0 0 700 450\"><rect x=\"0\" y=\"0\" width=\"700\" height=\"450\" style=\"fill: rgb(255, 255, 255); fill-opacity: 1;\"/><defs id=\"defs-3d189c\"><g class=\"clips\"><clipPath id=\"clip3d189cxyplot\" class=\"plotclip\"><rect width=\"627\" height=\"310\"/></clipPath><clipPath class=\"axesclip\" id=\"clip3d189cx\"><rect x=\"53\" y=\"0\" width=\"627\" height=\"450\"/></clipPath><clipPath class=\"axesclip\" id=\"clip3d189cy\"><rect x=\"0\" y=\"60\" width=\"700\" height=\"310\"/></clipPath><clipPath class=\"axesclip\" id=\"clip3d189cxy\"><rect x=\"53\" y=\"60\" width=\"627\" height=\"310\"/></clipPath></g><g class=\"gradients\"/></defs><g class=\"bglayer\"/><g class=\"layer-below\"><g class=\"imagelayer\"/><g class=\"shapelayer\"/></g><g class=\"cartesianlayer\"><g class=\"subplot xy\"><g class=\"layer-subplot\"><g class=\"shapelayer\"/><g class=\"imagelayer\"/></g><g class=\"gridlayer\"><g class=\"x\"><path class=\"xgrid crisp\" transform=\"translate(113.22999999999999,0)\" d=\"M0,60v310\" style=\"stroke: rgb(255, 255, 255); stroke-opacity: 1; stroke-width: 1px;\"/><path class=\"xgrid crisp\" transform=\"translate(241.62,0)\" d=\"M0,60v310\" style=\"stroke: rgb(255, 255, 255); stroke-opacity: 1; stroke-width: 1px;\"/><path class=\"xgrid crisp\" transform=\"translate(372.13,0)\" d=\"M0,60v310\" style=\"stroke: rgb(255, 255, 255); stroke-opacity: 1; stroke-width: 1px;\"/><path class=\"xgrid crisp\" transform=\"translate(501.22,0)\" d=\"M0,60v310\" style=\"stroke: rgb(255, 255, 255); stroke-opacity: 1; stroke-width: 1px;\"/><path class=\"xgrid crisp\" transform=\"translate(631.74,0)\" d=\"M0,60v310\" style=\"stroke: rgb(255, 255, 255); stroke-opacity: 1; stroke-width: 1px;\"/></g><g class=\"y\"><path class=\"ygrid crisp\" transform=\"translate(0,283.76)\" d=\"M53,0h627\" style=\"stroke: rgb(255, 255, 255); stroke-opacity: 1; stroke-width: 1px;\"/><path class=\"ygrid crisp\" transform=\"translate(0,212.99)\" d=\"M53,0h627\" style=\"stroke: rgb(255, 255, 255); stroke-opacity: 1; stroke-width: 1px;\"/><path class=\"ygrid crisp\" transform=\"translate(0,142.22)\" d=\"M53,0h627\" style=\"stroke: rgb(255, 255, 255); stroke-opacity: 1; stroke-width: 1px;\"/><path class=\"ygrid crisp\" transform=\"translate(0,71.45)\" d=\"M53,0h627\" style=\"stroke: rgb(255, 255, 255); stroke-opacity: 1; stroke-width: 1px;\"/></g></g><g class=\"zerolinelayer\"><path class=\"yzl zl crisp\" transform=\"translate(0,354.53)\" d=\"M53,0h627\" style=\"stroke: rgb(255, 255, 255); stroke-opacity: 1; stroke-width: 2px;\"/></g><path class=\"xlines-below\"/><path class=\"ylines-below\"/><g class=\"overlines-below\"/><g class=\"xaxislayer-below\"/><g class=\"yaxislayer-below\"/><g class=\"overaxes-below\"/><g class=\"plot\" transform=\"translate(53, 60)\" clip-path=\"url('#clip3d189cxyplot')\"><g class=\"scatterlayer mlayer\"><g class=\"trace scatter tracebb6b4c\" style=\"stroke-miterlimit: 2; opacity: 1;\"><g class=\"fills\"/><g class=\"errorbars\"/><g class=\"lines\"><path class=\"js-line\" d=\"M0,293.51L1.42,289.2L2.84,288.05L4.26,293.06L4.97,292.34L7.09,290.41L7.8,290.94L9.22,293.25L9.93,291.81L12.06,287.23L12.77,288.93L14.19,292.98L16.28,289.48L19.12,293.36L20.54,291.18L21.25,291.49L21.96,290.54L22.67,290.53L23.38,292.17L24.09,293.56L26.21,290.85L26.92,289.87L27.63,290.83L29.76,293.23L31.18,289.75L32.6,292.76L33.31,293.13L34.02,293.37L34.73,291.33L37.56,291.11L38.98,292.18L41.11,289.57L41.82,290.33L42.53,288.76L43.24,290.29L43.95,293.21L44.66,292.17L46.08,288.81L47.49,288.98L48.91,293.18L49.62,291.82L51.04,288.62L51.75,289.1L52.46,288.61L53.17,292.18L53.88,292.41L54.59,289.64L55.3,292.1L56.01,289.12L57.42,290.16L58.13,292.85L58.84,293.01L59.55,291.65L60.26,292.83L60.97,289.82L61.68,288.36L62.39,290.94L63.1,293.34L63.81,293.04L64.52,291.64L65.94,290.76L67.35,290.96L68.06,293.18L68.77,293.19L69.48,291.58L71.61,290.21L72.32,290.73L73.74,293.26L74.45,293.27L75.87,291.51L76.58,290.6L78.7,293.35L79.41,291.8L80.83,290.65L81.54,290.43L83.67,293.44L84.38,292.27L85.09,291.49L85.8,291.87L87.22,291.78L87.92,293.69L88.63,293.47L89.34,292.27L91.47,291.54L92.18,292.02L92.89,293.88L93.6,293.51L96.44,291.98L97.15,291.98L98.56,293.34L99.27,291.97L101.4,291.74L102.11,292.07L102.82,293.58L103.53,293.29L104.95,291.77L105.66,292.13L107.08,291.58L107.79,293.47L108.49,293.24L109.2,291.96L111.33,291.72L112.04,292.15L113.46,293.63L114.17,291.97L115.59,290.87L117.01,290.54L118.43,293.33L119.13,292.3L119.84,290.98L120.55,291.69L121.97,291.43L122.68,292.17L123.39,293.74L124.13,292.84L124.84,263.34L125.55,289.37L128.39,293.56L129.09,292.62L130.51,291.2L131.22,290.75L132.64,291.65L133.35,293.31L135.48,290.51L136.19,290.87L138.32,293.54L139.02,292.92L141.86,289.72L142.57,291.43L143.28,292.94L143.99,291.73L145.41,290.15L146.12,290.08L147.54,292.03L148.25,293.09L148.95,290.18L149.66,290.44L150.37,289.33L151.08,289.67L151.79,288.67L152.5,291.51L153.21,293.01L153.92,291.36L154.63,289.59L155.34,289.99L156.76,289.9L157.47,291.89L158.18,293.41L158.89,292.17L160.3,290.71L161.01,290.67L161.72,290.62L162.43,292.77L163.85,293.12L164.56,290.53L166.69,290.55L167.4,292.89L168.11,292.51L168.82,290.18L170.94,289.94L171.65,290.24L173.07,292.51L173.78,290.98L174.49,290.19L175.2,291.88L176.62,291.64L177.33,293.21L178.04,293.11L178.75,292.03L180.16,290.79L180.87,290.57L182.29,293.55L183,292.98L184.42,290.95L185.13,291.44L185.84,291.61L187.26,292.91L187.97,287.02L188.68,290.91L190.8,292.65L191.51,292.17L192.22,293.38L192.93,292.99L195.77,290.57L196.48,291.28L197.19,293.31L197.9,292.75L200.73,290.3L201.44,291.4L202.15,293.49L202.86,293.04L204.99,289.77L205.7,290.65L207.83,292.93L208.54,291.19L210.66,290.05L211.37,290.73L212.08,292.99L212.79,292.46L213.5,288.8L214.21,290.25L215.63,289.54L216.34,291.24L217.05,292.87L217.76,292.59L219.18,286.44L219.89,287.07L222.01,292.67L222.72,292.04L224.14,290.39L225.56,290.04L226.27,289.88L226.98,287.18L227.69,292.14L228.4,290.22L229.82,289.63L230.53,289.85L231.23,289.53L231.94,290.77L233.36,293.01L234.07,292.46L235.49,290.09L236.2,289.7L237.62,293.4L238.33,292.69L239.75,289.82L240.46,289.82L241.17,289.3L241.87,291.59L242.58,293.03L243.29,291.82L245.42,290.06L246.13,291.13L246.84,291.19L247.55,293.27L249.68,289.38L250.39,290.49L251.8,291.61L252.51,293.35L255.35,289.98L256.06,290.38L257.48,293.29L258.19,292.59L260.32,290.09L261.03,289.94L262.44,293.23L263.15,292.11L265.28,290.97L265.99,290.83L267.41,293.21L268.12,292.37L270.25,289.93L270.96,289.64L271.67,287.61L272.37,293.16L275.18,289.58L275.89,290.36L276.6,289.59L277.31,293.04L278.73,288.42L279.44,289.18L280.15,288.43L280.86,289.93L282.28,293.01L282.98,291.84L285.11,290.46L285.82,288.76L287.24,293.11L288.66,290.88L289.37,290.21L290.08,290.6L290.79,289.68L291.5,292.79L292.21,292.89L292.92,291.42L293.62,290.69L294.33,291.1L295.04,292.9L295.75,292.58L296.46,293.23L297.17,292.05L298.59,290.29L299.3,290.93L300.72,291.49L302.14,293.11L302.85,293.06L303.55,292L304.97,290.38L305.68,291.31L307.1,293.29L307.81,291.57L310.65,291.32L311.36,292.28L312.07,293.31L312.78,292.86L313.49,292.01L314.19,293.01L315.61,291.42L316.32,292.2L317.03,293.28L317.74,292.48L318.45,291.25L319.16,292.45L319.87,291.93L320.58,288.9L322,292.85L322.71,291.23L323.42,290.25L324.12,286.5L326.96,292.96L327.67,291.32L329.09,288.71L329.8,288.42L330.51,289.05L331.22,291.22L331.93,292.48L332.64,291.85L334.76,288.09L335.47,287.3L336.89,291.25L337.6,287.71L339.02,286.61L341.15,286.04L342.57,284.44L343.28,280.81L343.99,280.1L344.69,281.2L346.11,289.78L346.82,289.1L348.24,281.97L348.95,282.66L349.66,282.91L350.37,285.14L351.79,291.28L352.5,289.3L353.92,282.36L354.63,278L355.33,281.02L356.04,290.04L356.75,289.49L357.46,279.53L358.17,278.5L358.88,275.91L360.3,268.91L361.01,282.44L361.72,282.85L362.43,273.07L363.85,277.2L364.56,276.38L365.26,275.65L365.97,285.75L366.68,281.74L367.39,266.42L368.1,271.31L368.81,267.21L369.52,258.4L370.23,277.09L370.94,276.56L371.65,264.29L372.36,255.14L373.07,260.31L373.78,251.36L375.2,257.22L377.32,274.61L378.03,264.14L378.74,260.57L379.45,261.87L380.16,258.39L380.87,269.44L381.58,281.82L382.32,276.7L383.03,275.45L383.74,271.66L384.45,272.56L385.16,271.43L385.86,278.92L387.28,280.53L387.99,273.81L388.7,280.35L390.12,273.2L390.83,283.62L391.54,286.4L392.25,281.62L393.67,273.45L394.38,275.09L395.09,269.55L395.79,278.07L396.5,257.48L397.21,270.64L397.92,266.84L398.63,270.44L400.05,273.75L400.76,281.11L401.47,285.99L402.18,281.44L403.6,274.85L404.31,273.54L405.02,274.41L405.73,280.95L406.43,285.15L407.14,281.04L408.56,277.04L409.27,277.47L409.98,276.23L410.69,284.3L411.4,287.18L412.11,282.01L413.53,273.95L414.24,276.38L414.95,276.94L415.66,284.38L416.36,287.25L417.07,279.5L418.49,274.99L419.2,277.95L420.62,282.71L421.33,288.28L422.04,287.91L422.75,282.06L424.17,275.68L424.88,275.18L426.29,284.1L427,279.68L428.42,276.56L429.13,278.03L429.84,273.72L430.55,283.41L431.26,286.38L431.97,270.62L432.68,271.18L433.39,267.92L434.1,262.84L434.81,273.2L435.52,273.4L436.23,283.33L437.64,271.11L438.35,275.75L439.06,277.36L439.77,281.06L440.48,285.83L441.19,284.84L441.9,278.33L442.61,279.07L443.32,275.55L444.03,276.46L444.74,276.9L445.45,285.72L446.86,279.85L447.57,280.2L448.28,280.35L448.99,281.7L450.41,289.02L451.12,285.36L451.83,285.98L452.54,288.33L453.25,278.68L453.96,286.69L455.38,294.5L456.09,294.36L456.8,294.36L457.5,281.11L458.21,261.01L458.92,267.95L459.63,272.12L460.34,281.88L461.76,268.6L462.47,272.02L463.18,268.64L463.89,270.64L465.31,284.61L466.02,280.7L466.73,274.57L467.43,275.61L468.14,273.49L468.85,267.17L469.56,270.74L470.27,281.08L470.98,281.1L472.4,269.17L473.82,266.29L474.53,270.82L475.24,278.84L475.95,277.11L477.37,265.13L478.07,271.14L478.78,269.25L479.49,278.05L480.2,287.45L480.91,281.47L483.04,272.54L483.75,273.51L484.46,276.36L485.17,285.41L486.59,271.04L487.3,272.87L488,267.8L488.71,281.55L491.55,290.18L492.97,282.89L494.39,268.44L495.1,283.33L495.81,284.11L496.52,283.46L497.23,267.91L497.94,273.04L498.64,283.97L511.41,293.74L512.83,276.84L513.54,283.24L514.25,272.71L514.96,286.16L515.67,286.46L516.38,280.54L517.8,276.92L518.51,277.87L519.21,279.3L519.92,288.41L520.63,287.48L521.34,277.22L522.05,276.01L522.76,276.85L523.47,275.08L524.18,279.82L524.89,287.63L525.6,284.34L527.02,275.55L527.73,275.71L528.44,276.96L529.14,284.12L529.85,289.97L530.56,286.25L531.24,278.5L531.95,278.98L532.66,276.39L533.37,274.7L534.08,277.85L534.79,285.27L535.5,283.76L536.92,269.41L537.63,274.65L539.75,288.61L540.46,285.38L541.17,275.04L541.88,276.22L543.3,278.94L544.01,275.25L544.72,285.92L545.43,280.72L546.85,271.43L547.56,270.89L548.27,272.41L548.98,276.38L549.69,287.12L550.39,281.75L551.81,262.52L552.52,259.65L553.23,268.12L553.94,261.01L554.65,283.12L555.36,275.14L556.07,260.81L556.78,264.91L557.49,267.19L558.2,274.74L559.62,273.71L560.32,282.13L561.03,280L561.74,268.79L562.45,266.98L563.16,267.81L563.87,270.52L564.58,276.64L565.29,286.84L566,278.89L567.42,271.29L568.13,276.62L568.84,280.24L569.55,278.5L570.26,281.11L570.96,271.65L572.38,263.1L573.09,267.41L575.22,282.9L575.93,273.6L576.64,268.28L577.35,269.13L578.77,274.7L579.48,283.65L580.19,284.14L580.89,279.23L582.31,271.22L583.02,271.05L583.73,268.44L584.44,272.72L585.15,280.51L585.86,272.06L587.28,268.02L587.99,258.19L588.7,246.18L589.41,264.23L590.12,281.07L590.83,276.99L592.24,250.67L592.95,256.21L593.66,245.27L594.37,248.48L595.08,274.27L595.79,212.29L596.5,167.52L597.21,45L597.92,15.5L598.63,54.82L600.05,120.65L600.76,116.67L601.46,111.88L602.17,165.28L602.88,187.2L603.59,175.11L605.01,272.15L605.72,257.12L606.43,251.32L607.14,238.06L607.85,242.8L608.56,256.56L609.98,283.81L610.69,277.17L612.1,269.21L612.81,257.44L613.52,226.7L614.23,258.38L614.94,270.47L615.65,260.22L616.36,248L617.07,253.2L617.78,174.97L618.49,195.07L619.2,274.21L619.91,265.16L621.33,220.59L622.03,232.16L624.16,278.69L624.87,264.12L627,214.57\" style=\"vector-effect: non-scaling-stroke; fill: none; stroke: rgb(0, 0, 0); stroke-opacity: 1; stroke-width: 2px; opacity: 1;\"/></g><g class=\"points\"/><g class=\"text\"/></g></g></g><g class=\"overplot\"/><path class=\"xlines-above crisp\" d=\"\" style=\"fill: none; stroke-width: 1px; stroke: rgb(0, 0, 0); stroke-opacity: 0;\"/><path class=\"ylines-above crisp\" d=\"M0,0\" style=\"fill: none;\"/><g class=\"overlines-above\"/><g class=\"xaxislayer-above\"><path class=\"xtick ticks crisp\" d=\"M0,371v10\" transform=\"translate(113.22999999999999,0)\" style=\"stroke: rgb(255, 255, 255); stroke-opacity: 1; stroke-width: 1px;\"/><path class=\"xtick ticks crisp\" d=\"M0,371v10\" transform=\"translate(241.62,0)\" style=\"stroke: rgb(255, 255, 255); stroke-opacity: 1; stroke-width: 1px;\"/><path class=\"xtick ticks crisp\" d=\"M0,371v10\" transform=\"translate(372.13,0)\" style=\"stroke: rgb(255, 255, 255); stroke-opacity: 1; stroke-width: 1px;\"/><path class=\"xtick ticks crisp\" d=\"M0,371v10\" transform=\"translate(501.22,0)\" style=\"stroke: rgb(255, 255, 255); stroke-opacity: 1; stroke-width: 1px;\"/><path class=\"xtick ticks crisp\" d=\"M0,371v10\" transform=\"translate(631.74,0)\" style=\"stroke: rgb(255, 255, 255); stroke-opacity: 1; stroke-width: 1px;\"/><g class=\"xtick\"><text text-anchor=\"middle\" x=\"0\" y=\"396.6\" transform=\"translate(113.22999999999999,0)\" style=\"font-family: NHaasGroteskDSPro; font-size: 13px; fill: rgb(0, 0, 0); fill-opacity: 1; white-space: pre;\">Jan 2019</text></g><g class=\"xtick\"><text text-anchor=\"middle\" x=\"0\" y=\"396.6\" transform=\"translate(241.62,0)\" style=\"font-family: NHaasGroteskDSPro; font-size: 13px; fill: rgb(0, 0, 0); fill-opacity: 1; white-space: pre;\">Jul 2019</text></g><g class=\"xtick\"><text text-anchor=\"middle\" x=\"0\" y=\"396.6\" transform=\"translate(372.13,0)\" style=\"font-family: NHaasGroteskDSPro; font-size: 13px; fill: rgb(0, 0, 0); fill-opacity: 1; white-space: pre;\">Jan 2020</text></g><g class=\"xtick\"><text text-anchor=\"middle\" x=\"0\" y=\"396.6\" transform=\"translate(501.22,0)\" style=\"font-family: NHaasGroteskDSPro; font-size: 13px; fill: rgb(0, 0, 0); fill-opacity: 1; white-space: pre;\">Jul 2020</text></g><g class=\"xtick\"><text text-anchor=\"middle\" x=\"0\" y=\"396.6\" transform=\"translate(631.74,0)\" style=\"font-family: NHaasGroteskDSPro; font-size: 13px; fill: rgb(0, 0, 0); fill-opacity: 1; white-space: pre;\">Jan 2021</text></g></g><g class=\"yaxislayer-above\"><g class=\"ytick\"><text text-anchor=\"end\" x=\"52\" y=\"4.55\" transform=\"translate(0,354.53)\" style=\"font-family: NHaasGroteskDSPro; font-size: 13px; fill: rgb(0, 0, 0); fill-opacity: 1; white-space: pre;\">0</text></g><g class=\"ytick\"><text text-anchor=\"end\" x=\"52\" y=\"4.55\" transform=\"translate(0,283.76)\" style=\"font-family: NHaasGroteskDSPro; font-size: 13px; fill: rgb(0, 0, 0); fill-opacity: 1; white-space: pre;\">100k</text></g><g class=\"ytick\"><text text-anchor=\"end\" x=\"52\" y=\"4.55\" transform=\"translate(0,212.99)\" style=\"font-family: NHaasGroteskDSPro; font-size: 13px; fill: rgb(0, 0, 0); fill-opacity: 1; white-space: pre;\">200k</text></g><g class=\"ytick\"><text text-anchor=\"end\" x=\"52\" y=\"4.55\" transform=\"translate(0,142.22)\" style=\"font-family: NHaasGroteskDSPro; font-size: 13px; fill: rgb(0, 0, 0); fill-opacity: 1; white-space: pre;\">300k</text></g><g class=\"ytick\"><text text-anchor=\"end\" x=\"52\" y=\"4.55\" transform=\"translate(0,71.45)\" style=\"font-family: NHaasGroteskDSPro; font-size: 13px; fill: rgb(0, 0, 0); fill-opacity: 1; white-space: pre;\">400k</text></g></g><g class=\"overaxes-above\"/></g></g><g class=\"polarlayer\"/><g class=\"ternarylayer\"/><g class=\"geolayer\"/><g class=\"funnelarealayer\"/><g class=\"pielayer\"/><g class=\"treemaplayer\"/><g class=\"sunburstlayer\"/><g class=\"glimages\"/><defs id=\"topdefs-3d189c\"><g class=\"clips\"/></defs><g class=\"layer-above\"><g class=\"imagelayer\"/><g class=\"shapelayer\"/></g><g class=\"infolayer\"><g class=\"g-gtitle\"><text class=\"gtitle\" x=\"350\" y=\"36\" text-anchor=\"middle\" dy=\"0.7em\" style=\"font-family: NHaasGroteskDSPro; font-size: 18px; fill: rgb(0, 0, 0); opacity: 1; font-weight: normal; white-space: pre;\"><tspan style=\"font-weight:bold\">WallStreetBets comments per day evolution<tspan style=\"font-weight:bold\"></tspan></tspan></text></g><g class=\"g-xtitle\"><text class=\"xtitle\" x=\"366.5\" y=\"425.79375\" text-anchor=\"middle\" style=\"font-family: NHaasGroteskDSPro; font-size: 16px; fill: rgb(0, 0, 0); opacity: 1; font-weight: normal; white-space: pre;\">Date</text></g><g class=\"g-ytitle\"/></g></svg>"
          },
          "metadata": {
            "tags": []
          }
        }
      ]
    }
  ]
}